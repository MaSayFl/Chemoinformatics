{
 "cells": [
  {
   "cell_type": "code",
   "execution_count": 1,
   "id": "indie-consistency",
   "metadata": {},
   "outputs": [
    {
     "data": {
      "text/html": [
       "<div>\n",
       "<style scoped>\n",
       "    .dataframe tbody tr th:only-of-type {\n",
       "        vertical-align: middle;\n",
       "    }\n",
       "\n",
       "    .dataframe tbody tr th {\n",
       "        vertical-align: top;\n",
       "    }\n",
       "\n",
       "    .dataframe thead th {\n",
       "        text-align: right;\n",
       "    }\n",
       "</style>\n",
       "<table border=\"1\" class=\"dataframe\">\n",
       "  <thead>\n",
       "    <tr style=\"text-align: right;\">\n",
       "      <th></th>\n",
       "      <th>Yes</th>\n",
       "      <th>No</th>\n",
       "    </tr>\n",
       "  </thead>\n",
       "  <tbody>\n",
       "    <tr>\n",
       "      <th>0</th>\n",
       "      <td>50</td>\n",
       "      <td>131</td>\n",
       "    </tr>\n",
       "    <tr>\n",
       "      <th>1</th>\n",
       "      <td>21</td>\n",
       "      <td>2</td>\n",
       "    </tr>\n",
       "  </tbody>\n",
       "</table>\n",
       "</div>"
      ],
      "text/plain": [
       "   Yes   No\n",
       "0   50  131\n",
       "1   21    2"
      ]
     },
     "execution_count": 1,
     "metadata": {},
     "output_type": "execute_result"
    }
   ],
   "source": [
    "import pandas as pd\n",
    "pd.DataFrame({'Yes':[50, 21], 'No':[131, 2]})"
   ]
  },
  {
   "cell_type": "code",
   "execution_count": 2,
   "id": "chinese-kuwait",
   "metadata": {},
   "outputs": [
    {
     "data": {
      "text/html": [
       "<div>\n",
       "<style scoped>\n",
       "    .dataframe tbody tr th:only-of-type {\n",
       "        vertical-align: middle;\n",
       "    }\n",
       "\n",
       "    .dataframe tbody tr th {\n",
       "        vertical-align: top;\n",
       "    }\n",
       "\n",
       "    .dataframe thead th {\n",
       "        text-align: right;\n",
       "    }\n",
       "</style>\n",
       "<table border=\"1\" class=\"dataframe\">\n",
       "  <thead>\n",
       "    <tr style=\"text-align: right;\">\n",
       "      <th></th>\n",
       "      <th>Bob</th>\n",
       "      <th>Sue</th>\n",
       "    </tr>\n",
       "  </thead>\n",
       "  <tbody>\n",
       "    <tr>\n",
       "      <th>0</th>\n",
       "      <td>I liked it.</td>\n",
       "      <td>Pretty good.</td>\n",
       "    </tr>\n",
       "    <tr>\n",
       "      <th>1</th>\n",
       "      <td>It was awful.</td>\n",
       "      <td>Bland.</td>\n",
       "    </tr>\n",
       "  </tbody>\n",
       "</table>\n",
       "</div>"
      ],
      "text/plain": [
       "             Bob           Sue\n",
       "0    I liked it.  Pretty good.\n",
       "1  It was awful.        Bland."
      ]
     },
     "execution_count": 2,
     "metadata": {},
     "output_type": "execute_result"
    }
   ],
   "source": [
    "#Входные значения могут быть не только числа, но и строки\n",
    "pd.DataFrame({'Bob': ['I liked it.', 'It was awful.'], 'Sue': ['Pretty good.', 'Bland.']})"
   ]
  },
  {
   "cell_type": "raw",
   "id": "flush-worse",
   "metadata": {},
   "source": [
    "Датафрейм здается похожим образом, как и словарь : ключ - значение."
   ]
  },
  {
   "cell_type": "code",
   "execution_count": 3,
   "id": "particular-seller",
   "metadata": {},
   "outputs": [
    {
     "data": {
      "text/html": [
       "<div>\n",
       "<style scoped>\n",
       "    .dataframe tbody tr th:only-of-type {\n",
       "        vertical-align: middle;\n",
       "    }\n",
       "\n",
       "    .dataframe tbody tr th {\n",
       "        vertical-align: top;\n",
       "    }\n",
       "\n",
       "    .dataframe thead th {\n",
       "        text-align: right;\n",
       "    }\n",
       "</style>\n",
       "<table border=\"1\" class=\"dataframe\">\n",
       "  <thead>\n",
       "    <tr style=\"text-align: right;\">\n",
       "      <th></th>\n",
       "      <th>Bob</th>\n",
       "      <th>Sue</th>\n",
       "    </tr>\n",
       "  </thead>\n",
       "  <tbody>\n",
       "    <tr>\n",
       "      <th>Product A</th>\n",
       "      <td>I liked it.</td>\n",
       "      <td>Pretty good.</td>\n",
       "    </tr>\n",
       "    <tr>\n",
       "      <th>Product B</th>\n",
       "      <td>It was awful.</td>\n",
       "      <td>Bland.</td>\n",
       "    </tr>\n",
       "  </tbody>\n",
       "</table>\n",
       "</div>"
      ],
      "text/plain": [
       "                     Bob           Sue\n",
       "Product A    I liked it.  Pretty good.\n",
       "Product B  It was awful.        Bland."
      ]
     },
     "execution_count": 3,
     "metadata": {},
     "output_type": "execute_result"
    }
   ],
   "source": [
    "pd.DataFrame({'Bob': ['I liked it.', 'It was awful.'], \n",
    "              'Sue': ['Pretty good.', 'Bland.']},\n",
    "             index=['Product A', 'Product B'])"
   ]
  },
  {
   "cell_type": "raw",
   "id": "altered-wrist",
   "metadata": {},
   "source": [
    "Серии - это список. По сути, серия представляет собой отдельный столбец DataFrame. Таким образом, вы можете назначать значения столбцов для серии так же, как и раньше, используя параметр индекса. Однако у серии нет имени столбца, у нее есть только одно общее имя. Можно представить, что датафрейм  - это набор серий, \"склеенных вместе\""
   ]
  },
  {
   "cell_type": "code",
   "execution_count": 7,
   "id": "brave-plaza",
   "metadata": {},
   "outputs": [
    {
     "name": "stdout",
     "output_type": "stream",
     "text": [
      "0    1\n",
      "1    2\n",
      "2    3\n",
      "3    4\n",
      "4    5\n",
      "dtype: int64\n",
      "2015 Sales    30\n",
      "2016 Sales    35\n",
      "2017 Sales    40\n",
      "Name: Product A, dtype: int64\n"
     ]
    }
   ],
   "source": [
    "d = pd.Series([1, 2, 3, 4, 5])\n",
    "print(d)\n",
    "b = pd.Series([30, 35, 40], index=['2015 Sales', '2016 Sales', '2017 Sales'], name='Product A')\n",
    "print(b)"
   ]
  },
  {
   "cell_type": "code",
   "execution_count": 15,
   "id": "physical-grade",
   "metadata": {},
   "outputs": [
    {
     "data": {
      "text/plain": [
       "<bound method NDFrame.head of       TSSsite    direction  distance geneID Gene_id  gene_start  \\\n",
       "1          37  codirection      -153   thrL   b0001         190   \n",
       "2          38  codirection      -152   thrL   b0001         190   \n",
       "3         148  codirection       -42   thrL   b0001         190   \n",
       "4         148  codirection      -189   thrA   b0002         337   \n",
       "5       -6481  codirection       -22   yaaA   b0006       -6459   \n",
       "...       ...          ...       ...    ...     ...         ...   \n",
       "9175  4635477  codirection       -44   creA   b4397     4635521   \n",
       "9176 -4640372  codirection       -66   arcA   b4401    -4640306   \n",
       "9177 -4640401  codirection       -95   arcA   b4401    -4640306   \n",
       "9178  4640411  codirection         9   yjjY   b4402     4640402   \n",
       "9179  4640756  codirection      -186   yjtD   b4403     4640942   \n",
       "\n",
       "                K1_VCE            K2_VCE            K3_VCE            T1_VCE  \\\n",
       "1     12,9082508474173  10,1730278697205  16,6774071327489                 0   \n",
       "2      58,964388579707  66,6108920440152    133,7430902102  51,8269577079304   \n",
       "3     9,64985742962262  14,5489258872105  15,5439911140184  23,6360472207189   \n",
       "4     9,64985742962262  14,5489258872105  15,5439911140184  23,6360472207189   \n",
       "5     28,0723125225385  52,6229787231496  51,1656374169773  85,8858451961191   \n",
       "...                ...               ...               ...               ...   \n",
       "9175  10,5271171959519   13,913111645353  5,99091324186126  11,4487103725357   \n",
       "9176  7,83267648508329  7,59237006453402  6,15282981596562  14,2801118625176   \n",
       "9177                 0                 0                 0                 0   \n",
       "9178                 0                 0                 0                 0   \n",
       "9179  6,26614118806664  8,11598179312258                 0  15,7573648138126   \n",
       "\n",
       "                    T2_VCE            T3_VCE            R1_VCE  \\\n",
       "1                        0                 0                 0   \n",
       "2     6,15539000433552E-05  56,7784514348554   13,709881107063   \n",
       "3     4,56284999663054E-05  39,4093245182822  13,1445251851223   \n",
       "4     4,56284999663054E-05  39,4093245182822  13,1445251851223   \n",
       "5     6,14323321038357E-05  74,6917807613473  48,2672618356909   \n",
       "...                    ...               ...               ...   \n",
       "9175   1,0130661626622E-05  9,11539036613893                 0   \n",
       "9176  8,14505194780408E-06  13,1515582397029  8,48033882911114   \n",
       "9177                     0                 0  11,6604658900278   \n",
       "9178   4,7006269947526E-06  4,85247148844212  5,01753380722409   \n",
       "9179  9,36073134299872E-06   16,144671494256  6,99627953401669   \n",
       "\n",
       "                R2_VCE            R3_VCE            N1_VCE            N2_VCE  \\\n",
       "1                    0                 0  14,5957228045195  8,64107389725312   \n",
       "2     19,6583729518525                 0  54,9592031528203  40,6735898730577   \n",
       "3      9,2379572142164                 0                 0  7,98060965032931   \n",
       "4      9,2379572142164                 0                 0  7,98060965032931   \n",
       "5     93,3403196924425  39,7614769828215   211,06736598799  177,059456862823   \n",
       "...                ...               ...               ...               ...   \n",
       "9175  4,87764140910626                 0                 0   6,8798359054563   \n",
       "9176  16,7022266433033                 0  5,28569385513463  9,68680895488248   \n",
       "9177  17,2934559050131                 0                 0   5,9992169095579   \n",
       "9178  7,16865479823193                 0                 0                 0   \n",
       "9179  13,8199839924677                 0  6,06653499282497  4,67828841571029   \n",
       "\n",
       "                N3_VCE  \n",
       "1     6,34467244826687  \n",
       "2     32,9783523959366  \n",
       "3                    0  \n",
       "4                    0  \n",
       "5     117,062692754286  \n",
       "...                ...  \n",
       "9175                 0  \n",
       "9176  4,95023894315327  \n",
       "9177                 0  \n",
       "9178                 0  \n",
       "9179  5,15940396892031  \n",
       "\n",
       "[9179 rows x 18 columns]>"
      ]
     },
     "execution_count": 15,
     "metadata": {},
     "output_type": "execute_result"
    }
   ],
   "source": [
    "wine_reviews = pd.read_csv(\"../Codir_RPM_-200_+200_start.csv\", index_col=0)\n",
    "wine_reviews.shape\n",
    "wine_reviews.head"
   ]
  },
  {
   "cell_type": "code",
   "execution_count": 3,
   "id": "cooked-personal",
   "metadata": {},
   "outputs": [
    {
     "name": "stdout",
     "output_type": "stream",
     "text": [
      "[[1 2 3 4]\n",
      " [5 6 7 8]]\n"
     ]
    }
   ],
   "source": [
    "import numpy as np\n",
    "my_array = np.array([[1,2,3,4], [5,6,7,8]], dtype=np.int64)\n",
    "print(my_array)"
   ]
  },
  {
   "cell_type": "code",
   "execution_count": 9,
   "id": "formed-dealer",
   "metadata": {},
   "outputs": [],
   "source": [
    "# Create an array of ones\n",
    "np.ones((3,4))\n",
    "\n",
    "# Create an array of zeros\n",
    "np.zeros((2,3,4),dtype=np.int16)\n",
    "\n",
    "# Create an array with random values\n",
    "np.random.random((2,2))\n",
    "\n",
    "# Create an empty array\n",
    "np.empty((3,2))\n",
    "\n",
    "# Create a full array\n",
    "np.full((2,2),7)\n",
    "\n",
    "# Create an array of evenly-spaced values\n",
    "np.arange(10,25,5)\n",
    "\n",
    "# Create an array of evenly-spaced values\n",
    "np.linspace(0,2,9)\n",
    "\n",
    "# Import your data\n",
    "#x, y, z = np.loadtxt('data.txt', skiprows=1, unpack=True)\n",
    "\n",
    "x = np.arange(0.0,5.0,1.0)\n",
    "np.savetxt('test.out', x, delimiter=',')\n",
    "np.savez('test.out', x, delimiter=',')\n",
    "np.savez_compressed('test.out', x, delimiter=',')"
   ]
  },
  {
   "cell_type": "code",
   "execution_count": 10,
   "id": "unauthorized-yorkshire",
   "metadata": {},
   "outputs": [
    {
     "name": "stdout",
     "output_type": "stream",
     "text": [
      "2\n",
      "8\n",
      "  C_CONTIGUOUS : True\n",
      "  F_CONTIGUOUS : False\n",
      "  OWNDATA : True\n",
      "  WRITEABLE : True\n",
      "  ALIGNED : True\n",
      "  WRITEBACKIFCOPY : False\n",
      "  UPDATEIFCOPY : False\n",
      "\n",
      "8\n",
      "64\n"
     ]
    }
   ],
   "source": [
    "# Print the number of `my_array`'s dimensions\n",
    "print(my_array.ndim)\n",
    "\n",
    "# Print the number of `my_array`'s elements\n",
    "print(my_array.size)\n",
    "\n",
    "# Print information about `my_array`'s memory layout\n",
    "print(my_array.flags)\n",
    "\n",
    "# Print the length of one array element in bytes\n",
    "print(my_array.itemsize)\n",
    "\n",
    "# Print the total consumed bytes by `my_array`'s elements\n",
    "print(my_array.nbytes)"
   ]
  },
  {
   "cell_type": "code",
   "execution_count": 11,
   "id": "indonesian-northern",
   "metadata": {},
   "outputs": [
    {
     "name": "stdout",
     "output_type": "stream",
     "text": [
      "2\n"
     ]
    },
    {
     "data": {
      "text/plain": [
       "array([[1., 2., 3., 4.],\n",
       "       [5., 6., 7., 8.]])"
      ]
     },
     "execution_count": 11,
     "metadata": {},
     "output_type": "execute_result"
    }
   ],
   "source": [
    "# Print the length of `my_array`\n",
    "print(len(my_array))\n",
    "\n",
    "# Change the data type of `my_array`\n",
    "my_array.astype(float)"
   ]
  },
  {
   "cell_type": "code",
   "execution_count": 25,
   "id": "worse-category",
   "metadata": {},
   "outputs": [
    {
     "name": "stdout",
     "output_type": "stream",
     "text": [
      "(3, 4)\n",
      "(5, 3, 4)\n"
     ]
    },
    {
     "data": {
      "text/plain": [
       "array([[[0.15041404, 0.08180618, 0.17952066, 0.05832422],\n",
       "        [0.04340735, 0.00709575, 0.05513557, 0.00965407],\n",
       "        [0.3444801 , 0.01489261, 0.24954467, 0.05721169]],\n",
       "\n",
       "       [[0.09824539, 0.38963315, 0.19156676, 0.02297414],\n",
       "        [0.46893477, 0.14858191, 0.07899506, 0.10424768],\n",
       "        [0.03634621, 0.1538453 , 0.10942521, 0.31837076]],\n",
       "\n",
       "       [[0.01977979, 0.31331797, 0.06916677, 0.46186751],\n",
       "        [0.20974406, 0.0857029 , 0.33201786, 0.25665471],\n",
       "        [0.21082877, 0.00248853, 0.00978796, 0.00124423]],\n",
       "\n",
       "       [[0.26325723, 0.22052615, 0.37331048, 0.03449939],\n",
       "        [0.0666835 , 0.06469101, 0.08817549, 0.46860314],\n",
       "        [0.03418682, 0.16303995, 0.15564585, 0.13989742]],\n",
       "\n",
       "       [[0.36531628, 0.3192963 , 0.21354025, 0.10092033],\n",
       "        [0.03238156, 0.10526927, 0.04593074, 0.43168374],\n",
       "        [0.22122158, 0.26493259, 0.28577118, 0.34817383]]])"
      ]
     },
     "execution_count": 25,
     "metadata": {},
     "output_type": "execute_result"
    }
   ],
   "source": [
    "#BROADCASTING. the dimensions of your arrays need to be compatible\n",
    "\n",
    "# Initialize `x`\n",
    "x = np.ones((3,4))\n",
    "\n",
    "# Check shape of `x`\n",
    "print(x.shape)\n",
    "\n",
    "# Initialize `y`\n",
    "y = np.random.random((5,3,4))\n",
    "\n",
    "# Check shape of `y`\n",
    "print(y.shape)\n",
    "\n",
    "# Add `x` and `y`\n",
    "x + y\n",
    "\n",
    "x - y\n",
    "\n",
    "x*y\n",
    "\n",
    "x//y\n",
    "x/y\n",
    "x%y"
   ]
  },
  {
   "cell_type": "code",
   "execution_count": 29,
   "id": "guilty-stanley",
   "metadata": {},
   "outputs": [
    {
     "data": {
      "text/plain": [
       "array([[[ True,  True,  True,  True],\n",
       "        [ True,  True,  True,  True],\n",
       "        [ True,  True,  True,  True]],\n",
       "\n",
       "       [[ True,  True,  True,  True],\n",
       "        [ True,  True,  True,  True],\n",
       "        [ True,  True,  True,  True]],\n",
       "\n",
       "       [[ True,  True,  True,  True],\n",
       "        [ True,  True,  True,  True],\n",
       "        [ True,  True,  True,  True]],\n",
       "\n",
       "       [[ True,  True,  True,  True],\n",
       "        [ True,  True,  True,  True],\n",
       "        [ True,  True,  True,  True]],\n",
       "\n",
       "       [[ True,  True,  True,  True],\n",
       "        [ True,  True,  True,  True],\n",
       "        [ True,  True,  True,  True]]])"
      ]
     },
     "execution_count": 29,
     "metadata": {},
     "output_type": "execute_result"
    }
   ],
   "source": [
    "np.logical_or(x,y)\n",
    "#np.logical_and(x,y)\n",
    "#np.logical_not(x,y)"
   ]
  },
  {
   "cell_type": "code",
   "execution_count": 47,
   "id": "unlike-confidentiality",
   "metadata": {},
   "outputs": [
    {
     "name": "stdout",
     "output_type": "stream",
     "text": [
      "[[1 2 3 4]\n",
      " [5 6 7 8]]\n",
      "[1]\n"
     ]
    }
   ],
   "source": [
    "# Select the element at the 1st index\n",
    "print(my_array[0:])\n",
    "print(my_array[my_array<2])"
   ]
  },
  {
   "cell_type": "code",
   "execution_count": 50,
   "id": "accomplished-fellow",
   "metadata": {},
   "outputs": [],
   "source": [
    "#print(np.lookfor('mean'))\n",
    "#np.info(np.ndarray.dtype)"
   ]
  },
  {
   "cell_type": "code",
   "execution_count": 51,
   "id": "complex-identification",
   "metadata": {},
   "outputs": [
    {
     "name": "stdout",
     "output_type": "stream",
     "text": [
      "[[1 5]\n",
      " [2 6]\n",
      " [3 7]\n",
      " [4 8]]\n",
      "[[1 5]\n",
      " [2 6]\n",
      " [3 7]\n",
      " [4 8]]\n"
     ]
    }
   ],
   "source": [
    "# Transpose `my_2d_array`\n",
    "print(np.transpose(my_array))\n",
    "\n",
    "# Or use `T` to transpose `my_2d_array`\n",
    "print(my_array.T)"
   ]
  },
  {
   "cell_type": "code",
   "execution_count": 52,
   "id": "downtown-segment",
   "metadata": {},
   "outputs": [
    {
     "name": "stdout",
     "output_type": "stream",
     "text": [
      "(3, 4)\n",
      "[[1. 1. 1. 1.]\n",
      " [1. 1. 1. 1.]\n",
      " [1. 1. 1. 1.]\n",
      " [0. 0. 0. 0.]\n",
      " [0. 0. 0. 0.]\n",
      " [0. 0. 0. 0.]]\n"
     ]
    }
   ],
   "source": [
    "# Print the shape of `x`\n",
    "print(x.shape)\n",
    "\n",
    "# Resize `x` to ((6,4))\n",
    "np.resize(x, (6,4))\n",
    "\n",
    "# Try out this as well\n",
    "x.resize((6,4))\n",
    "\n",
    "# Print out `x`\n",
    "print(x)"
   ]
  },
  {
   "cell_type": "code",
   "execution_count": 59,
   "id": "desperate-toronto",
   "metadata": {},
   "outputs": [
    {
     "name": "stdout",
     "output_type": "stream",
     "text": [
      "24\n",
      "[1. 1. 1. 1. 1. 1. 1. 1. 1. 1. 1. 1. 0. 0. 0. 0. 0. 0. 0. 0. 0. 0. 0. 0.]\n"
     ]
    }
   ],
   "source": [
    "# Print the size of `x` to see what's possible\n",
    "print(x.size)\n",
    "\n",
    "# Reshape `x` to (2,6)\n",
    "#print(x.reshape((2,6)))\n",
    "\n",
    "# Flatten `x`\n",
    "z = x.ravel()\n",
    "\n",
    "# Print `z`\n",
    "print(z)"
   ]
  }
 ],
 "metadata": {
  "kernelspec": {
   "display_name": "Python 3",
   "language": "python",
   "name": "python3"
  },
  "language_info": {
   "codemirror_mode": {
    "name": "ipython",
    "version": 3
   },
   "file_extension": ".py",
   "mimetype": "text/x-python",
   "name": "python",
   "nbconvert_exporter": "python",
   "pygments_lexer": "ipython3",
   "version": "3.8.5"
  }
 },
 "nbformat": 4,
 "nbformat_minor": 5
}
